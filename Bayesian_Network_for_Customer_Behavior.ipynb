{
  "nbformat": 4,
  "nbformat_minor": 0,
  "metadata": {
    "colab": {
      "provenance": [],
      "gpuType": "T4",
      "authorship_tag": "ABX9TyPk3m/nYMbT9ZKIRit+AJOa",
      "include_colab_link": true
    },
    "kernelspec": {
      "name": "python3",
      "display_name": "Python 3"
    },
    "language_info": {
      "name": "python"
    },
    "accelerator": "GPU"
  },
  "cells": [
    {
      "cell_type": "markdown",
      "metadata": {
        "id": "view-in-github",
        "colab_type": "text"
      },
      "source": [
        "<a href=\"https://colab.research.google.com/github/DataCraftStudio/Sales-Data-Analysis/blob/main/Bayesian_Network_for_Customer_Behavior.ipynb\" target=\"_parent\"><img src=\"https://colab.research.google.com/assets/colab-badge.svg\" alt=\"Open In Colab\"/></a>"
      ]
    },
    {
      "cell_type": "markdown",
      "source": [],
      "metadata": {
        "id": "NQy3LcsjSrNk"
      }
    },
    {
      "cell_type": "code",
      "source": [
        "import pandas as pd"
      ],
      "metadata": {
        "id": "uZR8qnWbSx9E"
      },
      "execution_count": 1,
      "outputs": []
    },
    {
      "cell_type": "markdown",
      "source": [],
      "metadata": {
        "id": "WsOefGEASzB_"
      }
    },
    {
      "cell_type": "code",
      "source": [
        "# Import necessary libraries\n",
        "import pandas as pd\n",
        "\n",
        "# Load the dataset\n",
        "data = pd.read_csv('/content/sample_data/superstore.csv')  # یا 'Superstore.csv'\n",
        "\n",
        "# Display basic information about the dataset\n",
        "print(data.info())\n",
        "\n",
        "# Display the first few rows of the dataset\n",
        "print(data.head())"
      ],
      "metadata": {
        "colab": {
          "base_uri": "https://localhost:8080/"
        },
        "id": "dTZHHk0cTj6T",
        "outputId": "be42f70b-f85d-4474-e78e-26f6196774ef"
      },
      "execution_count": 6,
      "outputs": [
        {
          "output_type": "stream",
          "name": "stdout",
          "text": [
            "<class 'pandas.core.frame.DataFrame'>\n",
            "RangeIndex: 9161 entries, 0 to 9160\n",
            "Data columns (total 21 columns):\n",
            " #   Column         Non-Null Count  Dtype  \n",
            "---  ------         --------------  -----  \n",
            " 0   Row ID         9161 non-null   int64  \n",
            " 1   Order ID       9161 non-null   object \n",
            " 2   Order Date     9161 non-null   object \n",
            " 3   Ship Date      9161 non-null   object \n",
            " 4   Ship Mode      9161 non-null   object \n",
            " 5   Customer ID    9160 non-null   object \n",
            " 6   Customer Name  9160 non-null   object \n",
            " 7   Segment        9160 non-null   object \n",
            " 8   Country        9160 non-null   object \n",
            " 9   City           9160 non-null   object \n",
            " 10  State          9160 non-null   object \n",
            " 11  Postal Code    9154 non-null   float64\n",
            " 12  Region         9160 non-null   object \n",
            " 13  Product ID     9160 non-null   object \n",
            " 14  Category       9160 non-null   object \n",
            " 15  Sub-Category   9160 non-null   object \n",
            " 16  Product Name   9160 non-null   object \n",
            " 17  Sales          9160 non-null   float64\n",
            " 18  Quantity       9160 non-null   float64\n",
            " 19  Discount       9160 non-null   float64\n",
            " 20  Profit         9160 non-null   float64\n",
            "dtypes: float64(5), int64(1), object(15)\n",
            "memory usage: 1.5+ MB\n",
            "None\n",
            "   Row ID        Order ID  Order Date   Ship Date       Ship Mode Customer ID  \\\n",
            "0       1  CA-2017-152156   11/8/2017  11/11/2017    Second Class    CG-12520   \n",
            "1       2  CA-2017-152156   11/8/2017  11/11/2017    Second Class    CG-12520   \n",
            "2       3  CA-2017-138688   6/12/2017   6/16/2017    Second Class    DV-13045   \n",
            "3       4  US-2016-108966  10/11/2016  10/18/2016  Standard Class    SO-20335   \n",
            "4       5  US-2016-108966  10/11/2016  10/18/2016  Standard Class    SO-20335   \n",
            "\n",
            "     Customer Name    Segment        Country             City  ...  \\\n",
            "0      Claire Gute   Consumer  United States        Henderson  ...   \n",
            "1      Claire Gute   Consumer  United States        Henderson  ...   \n",
            "2  Darrin Van Huff  Corporate  United States      Los Angeles  ...   \n",
            "3   Sean O'Donnell   Consumer  United States  Fort Lauderdale  ...   \n",
            "4   Sean O'Donnell   Consumer  United States  Fort Lauderdale  ...   \n",
            "\n",
            "  Postal Code  Region       Product ID         Category Sub-Category  \\\n",
            "0     42420.0   South  FUR-BO-10001798        Furniture    Bookcases   \n",
            "1     42420.0   South  FUR-CH-10000454        Furniture       Chairs   \n",
            "2     90036.0    West  OFF-LA-10000240  Office Supplies       Labels   \n",
            "3     33311.0   South  FUR-TA-10000577        Furniture       Tables   \n",
            "4     33311.0   South  OFF-ST-10000760  Office Supplies      Storage   \n",
            "\n",
            "                                        Product Name     Sales  Quantity  \\\n",
            "0                  Bush Somerset Collection Bookcase  261.9600       2.0   \n",
            "1  Hon Deluxe Fabric Upholstered Stacking Chairs,...  731.9400       3.0   \n",
            "2  Self-Adhesive Address Labels for Typewriters b...   14.6200       2.0   \n",
            "3      Bretford CR4500 Series Slim Rectangular Table  957.5775       5.0   \n",
            "4                     Eldon Fold 'N Roll Cart System   22.3680       2.0   \n",
            "\n",
            "   Discount    Profit  \n",
            "0      0.00   41.9136  \n",
            "1      0.00  219.5820  \n",
            "2      0.00    6.8714  \n",
            "3      0.45 -383.0310  \n",
            "4      0.20    2.5164  \n",
            "\n",
            "[5 rows x 21 columns]\n"
          ]
        }
      ]
    }
  ]
}